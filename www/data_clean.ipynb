{
 "cells": [
  {
   "cell_type": "code",
   "execution_count": 84,
   "metadata": {},
   "outputs": [],
   "source": [
    "import numpy as np\n",
    "import pandas as pd"
   ]
  },
  {
   "cell_type": "code",
   "execution_count": null,
   "metadata": {},
   "outputs": [],
   "source": [
    "emissions = pd.read_csv(\"../Data/Carbon_(CO2)_Emissions_by_Country.csv\")\n",
    "emissions_2019 = emissions[emissions['Date'].str.contains(r'\\b2019\\b', regex= True)]\n",
    "\n",
    "country_renames = {\n",
    "    'United States': 'United States of America',\n",
    "    'Czech Republic': 'Czechia',\n",
    "    'Democratic Republic Of Congo': 'Dem. Rep. Congo',\n",
    "    'Central African Republic': 'Central African Rep.',\n",
    "    'South Sudan': 'S. Sudan',\n",
    "    'Eswatini': 'eSwatini',\n",
    "    'Republic Of Congo': 'Congo',\n",
    "    'Equatorial Guinea': 'Eq. Guinea',\n",
    "    'UAE': 'United Arab Emirates',\n",
    "    'Kyrgyz Republic': 'Kyrgyzstan',\n",
    "    'Lao PDR': 'Laos',\n",
    "    'Slovak Republic': 'Slovakia',\n",
    "    'Dominican Republic': 'Dominican Rep.',\n",
    "    'Bosnia': 'Bosnia and Herz.',\n",
    "    'North Macedonia': 'Macedonia',\n",
    "    'Syrian Arab Republic': 'Syria'\n",
    "}\n",
    "\n",
    "emissions['Country'] = emissions['Country'].replace(country_renames)\n",
    "\n",
    "print(set(emissions['Country']))\n",
    "\n",
    "# Print an alphabetized list of unique country names\n",
    "country_list = sorted(emissions['Country'].unique())\n",
    "print(\"\\n\".join(country_list))\n",
    "emissions['Date'] = pd.to_datetime(emissions['Date'], format= '%d-%m-%Y')\n",
    "emissions['Year'] = emissions['Date'].dt.year\n",
    "emissions"
   ]
  },
  {
   "cell_type": "markdown",
   "metadata": {},
   "source": [
    "greenland = ?\n",
    "\n",
    "w sahara = ?\n",
    "\n",
    "cote d'lvoire\n",
    "\n",
    "taiwan\n",
    "\n",
    "palestine\n",
    "\n",
    "somaliland\n",
    "\n",
    "kosovo\n",
    "\n"
   ]
  },
  {
   "cell_type": "code",
   "execution_count": null,
   "metadata": {},
   "outputs": [],
   "source": [
    "\n",
    "\n",
    "emissions_2019.to_csv('Data/CO2_emissions_2019.csv', index= False)\n",
    "emissions.to_csv('Data/CO2_emissions_all.csv', index= False)\n",
    "emissions_2019"
   ]
  },
  {
   "cell_type": "code",
   "execution_count": null,
   "metadata": {},
   "outputs": [],
   "source": []
  },
  {
   "cell_type": "code",
   "execution_count": null,
   "metadata": {},
   "outputs": [],
   "source": []
  },
  {
   "cell_type": "code",
   "execution_count": null,
   "metadata": {},
   "outputs": [],
   "source": []
  }
 ],
 "metadata": {
  "kernelspec": {
   "display_name": "IntViz",
   "language": "python",
   "name": "python3"
  },
  "language_info": {
   "codemirror_mode": {
    "name": "ipython",
    "version": 3
   },
   "file_extension": ".py",
   "mimetype": "text/x-python",
   "name": "python",
   "nbconvert_exporter": "python",
   "pygments_lexer": "ipython3",
   "version": "3.12.7"
  }
 },
 "nbformat": 4,
 "nbformat_minor": 2
}
